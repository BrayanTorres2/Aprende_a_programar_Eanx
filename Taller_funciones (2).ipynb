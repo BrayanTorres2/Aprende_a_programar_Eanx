{
  "cells": [
    {
      "cell_type": "markdown",
      "metadata": {
        "id": "Pc19mg9g0rcT"
      },
      "source": [
        "<h1 align=\"center\">Taller funciones</h1>"
      ]
    },
    {
      "cell_type": "markdown",
      "metadata": {
        "id": "YOrONnfe1NBJ"
      },
      "source": [
        "## Ejercicio 00\n",
        "\n",
        "* Escribir una función que reciba dos números enteros y retorne el mayor número de los dos.\n",
        "* Escriba un programa, que lea dos números enteros, y usando la función anterior, imprima el mayor de los dos."
      ]
    },
    {
      "cell_type": "code",
      "execution_count": 4,
      "metadata": {
        "id": "hQqfDasy2K20"
      },
      "outputs": [
        {
          "ename": "ValueError",
          "evalue": "invalid literal for int() with base 10: ''",
          "output_type": "error",
          "traceback": [
            "\u001b[1;31m---------------------------------------------------------------------------\u001b[0m",
            "\u001b[1;31mValueError\u001b[0m                                Traceback (most recent call last)",
            "\u001b[1;32mc:\\Users\\braya\\Downloads\\M2 L2 E1\\Taller_funciones (2).ipynb Cell 3'\u001b[0m in \u001b[0;36m<module>\u001b[1;34m\u001b[0m\n\u001b[0;32m      <a href='vscode-notebook-cell:/c%3A/Users/braya/Downloads/M2%20L2%20E1/Taller_funciones%20%282%29.ipynb#ch0000002?line=2'>3</a>\u001b[0m     \u001b[39mreturn\u001b[39;00m \u001b[39mmax\u001b[39m(a,b)\n\u001b[0;32m      <a href='vscode-notebook-cell:/c%3A/Users/braya/Downloads/M2%20L2%20E1/Taller_funciones%20%282%29.ipynb#ch0000002?line=4'>5</a>\u001b[0m \u001b[39m# Programa\u001b[39;00m\n\u001b[0;32m      <a href='vscode-notebook-cell:/c%3A/Users/braya/Downloads/M2%20L2%20E1/Taller_funciones%20%282%29.ipynb#ch0000002?line=5'>6</a>\u001b[0m \u001b[39m# 1. Leer los datos de entrada\u001b[39;00m\n\u001b[1;32m----> <a href='vscode-notebook-cell:/c%3A/Users/braya/Downloads/M2%20L2%20E1/Taller_funciones%20%282%29.ipynb#ch0000002?line=6'>7</a>\u001b[0m a\u001b[39m=\u001b[39m\u001b[39mint\u001b[39;49m(\u001b[39minput\u001b[39;49m(\u001b[39m\"\u001b[39;49m\u001b[39mDigite a: \u001b[39;49m\u001b[39m\"\u001b[39;49m))\n\u001b[0;32m      <a href='vscode-notebook-cell:/c%3A/Users/braya/Downloads/M2%20L2%20E1/Taller_funciones%20%282%29.ipynb#ch0000002?line=7'>8</a>\u001b[0m b\u001b[39m=\u001b[39m\u001b[39mint\u001b[39m(\u001b[39minput\u001b[39m(\u001b[39m\"\u001b[39m\u001b[39mDigite b: \u001b[39m\u001b[39m\"\u001b[39m))\n\u001b[0;32m      <a href='vscode-notebook-cell:/c%3A/Users/braya/Downloads/M2%20L2%20E1/Taller_funciones%20%282%29.ipynb#ch0000002?line=8'>9</a>\u001b[0m \u001b[39m# 2. Calcular los datos de salida\u001b[39;00m\n",
            "\u001b[1;31mValueError\u001b[0m: invalid literal for int() with base 10: ''"
          ]
        }
      ],
      "source": [
        "# Definición de la función\n",
        "def mayor(a: int, b: int) -> int:\n",
        "    return max(a,b)\n",
        "\n",
        "# Programa\n",
        "# 1. Leer los datos de entrada\n",
        "a=int(input(\"Digite a: \"))\n",
        "b=int(input(\"Digite b: \"))\n",
        "# 2. Calcular los datos de salida\n",
        "resultado=mayor(a,b)\n",
        "# 3. Imprimir los datos de salida\n",
        "print(resultado)\n"
      ]
    },
    {
      "cell_type": "markdown",
      "metadata": {
        "id": "EeflgK_C2X9i"
      },
      "source": [
        "---"
      ]
    },
    {
      "cell_type": "markdown",
      "metadata": {
        "id": "yi0B3oUjFmwU"
      },
      "source": [
        "## Ejercicio 01\n",
        "\n",
        "Escriba una función y un programa en el que a partir de dos números y un operador aritmético (que puede ser \"+\", \"-\", \"*\", \"/\", \"%\" o \"**\"), aplica la operación correspondiente y muestra el nombre de la operación y el resultado."
      ]
    },
    {
      "cell_type": "code",
      "execution_count": null,
      "metadata": {
        "id": "LPQeGj-LGBV4"
      },
      "outputs": [],
      "source": [
        "# Definición de la función\n",
        "\n",
        "# Programa principal\n"
      ]
    },
    {
      "cell_type": "markdown",
      "metadata": {
        "id": "mDaVduEaGFGa"
      },
      "source": [
        "---"
      ]
    },
    {
      "cell_type": "markdown",
      "metadata": {
        "id": "lgl0KEF42Yhq"
      },
      "source": [
        "## Ejercicio 02 \n",
        "\n",
        "Vamos a hacer un programa que transforme un número entero a números romanos. Por ahora solo vamos a considerar números entre 1 y 99. Para ello desarrolle las siguientes funciones y el programa:\n",
        "\n",
        "* Escriba una función que descomponga un número entero de dos cifras en sus dos dígitos, es decir, la función retorna las decenas y las unidades del número original.\n",
        "* Escriba otra función que reciba un número entero de un dígito (es decir, entre 0 y 9) y retorne el equivalente en romano de ese digito. O sea, para 1 retorne \"I\", para 2 debe retornar \"II\" y así sucesivamente. Para el cero retorne una cadena o str vacío, \"\"\n",
        "* Escriba finalmente una función que reciba un número entero de un dígito, es decir, un número entre 0 y 9, y retorne el equivalente romano en decenas de ese número. Las decenas en romano son: para el 1, es una \"X\", para el 2, es \"XX\", para el 3, es \"XXX\", para el 4 es \"XL\", para el 5 es \"L\", y así sucesivamente.\n",
        "* Ahora si, escriba un programa que lea un número entero, y si el número tiene menos de 3 cifras, utilice las funciones anteriores, para convertir el número a romanos (es decir, obtenga las decenas y unidades del número, convierta las unidades a romano, convierta las decenas a romano, e imprima ambos string en pantalla). Si el número tiene 3 o más dígitos o es negativo, se debe mostrar un mensaje de error."
      ]
    },
    {
      "cell_type": "code",
      "execution_count": null,
      "metadata": {
        "id": "QP5SZhIG5LVT"
      },
      "outputs": [],
      "source": [
        "# Definición de las funciones\n",
        "\n",
        "\n",
        "# Programa principal"
      ]
    },
    {
      "cell_type": "markdown",
      "metadata": {
        "id": "EY0njLVx5zlw"
      },
      "source": [
        "---"
      ]
    },
    {
      "cell_type": "markdown",
      "metadata": {
        "id": "fABc1qck50H1"
      },
      "source": [
        "## Ejercicio 03\n",
        "\n",
        "* Escribir una función que reciba el nombre de un día (por ejemplo \"lunes\" o \"martes\", etc.) y retorne el nombre del día de mañana.\n",
        "* Usando la función anterior, escriba un programa que lea el nombre de un día y que imprima el nombre del día de mañana."
      ]
    },
    {
      "cell_type": "code",
      "execution_count": null,
      "metadata": {
        "id": "doFqMdg16sxh"
      },
      "outputs": [],
      "source": [
        "# Definición de la función:\n",
        "def nombre_del_dia_de_mañana(dia: str) -> str:\n",
        "    ...\n",
        "\n",
        "# Programa principal\n"
      ]
    },
    {
      "cell_type": "markdown",
      "metadata": {
        "id": "nLMdxenj61Zd"
      },
      "source": [
        "---"
      ]
    },
    {
      "cell_type": "markdown",
      "metadata": {
        "id": "h4lBAQto6181"
      },
      "source": [
        "## Ejercicio 04\n",
        "\n",
        "La empresa La Generosa S.A desea aumentar el sueldo a sus empleados, para ello ha establecido las siguientes condiciones: quienes ganan hasta \\$ 800.000 tendrán un incremento del 10%, quienes devengan más de \\$ 800.000 y hasta 1’200.000 recibirán un aumento del 8% y los demás del 5%. Se requiere una función y un programa que calcule el valor del aumento y el nuevo salario para un  empleado."
      ]
    },
    {
      "cell_type": "code",
      "execution_count": null,
      "metadata": {
        "id": "AiTbRaSX7PNM"
      },
      "outputs": [],
      "source": [
        "# Definición de la función\n",
        "\n",
        "# Programa Principal\n"
      ]
    },
    {
      "cell_type": "markdown",
      "metadata": {
        "id": "laI3Svnt7YAX"
      },
      "source": [
        "---"
      ]
    },
    {
      "cell_type": "markdown",
      "metadata": {
        "id": "lrPZSZ4O7YcS"
      },
      "source": [
        "## Ejercicio 05\n",
        "\n",
        "Una empresa desea contratar un profesional para cubrir una vacante, los requisitos para ser considerado elegible son: ser profesional y tener entre 25 y 35 años inclusive, o contar con formación académica de especialista o magister o doctor,  en cuyo caso no se tiene en cuenta la edad. Se requiere una función y un programa que evalúe los datos de cada candidato (es decir, la formación académica y la edad) e informe si es apto o no apto."
      ]
    },
    {
      "cell_type": "code",
      "execution_count": null,
      "metadata": {
        "id": "971N8m0q70fR"
      },
      "outputs": [],
      "source": [
        "# Definición de la función\n",
        "def es_apto(formacion_academica: str, edad: int) -> bool:\n",
        "    ...\n",
        "\n",
        "# Programa principal\n"
      ]
    },
    {
      "cell_type": "markdown",
      "metadata": {
        "id": "CDJoEVOa8VSr"
      },
      "source": [
        "---"
      ]
    },
    {
      "cell_type": "markdown",
      "metadata": {
        "id": "S5ESB8p38V34"
      },
      "source": [
        "## Ejercicio 06\n",
        "\n",
        "En la universidad Buena Nota se requiere un algoritmo para calcular la nota definitiva y decidir si el estudiante aprueba o reprueba la asignatura. La nota final se obtiene a partir de dos notas parciales y un examen final, donde el primer parcial equivale al 30%, el segundo parcial al 30% y el examen final al 40%, y la nota mínima aprobatoria es 3.0.\n",
        "\n",
        "Pero si el promedio de los dos parciales es menor a 2.0, al estudiante no se le tiene en cuenta la nota del  examen final y pierde la materia por bajo promedio, en este caso la nota definitiva es el promedio de los parciales; si el promedio es igual o superior a 2.0 se le tiene en cuenta la nota del examen final. Pero si la nota del examen final es inferior a 2.0, se desconoce las notas parciales y la nota definitiva es la obtenida en el examen final. Si la nota es igual o superior a 2.0 se calcula la nota definitiva aplicando los porcentajes mencionados a los parciales y al final.\n",
        "\n",
        "Pero Si la nota definitiva es igual o superior a 3.0 el estudiante aprueba la asignatura; si es inferior a 3.0 pierde la materia; sin embargo, se tiene una nota de habilitación, siempre y cuando en el examen final obtenga nota mayor o igual a 2.0, en este caso la nota definitiva será la que obtenga en la habilitación."
      ]
    },
    {
      "cell_type": "code",
      "execution_count": null,
      "metadata": {
        "id": "CIkmWLMU-6BR"
      },
      "outputs": [],
      "source": [
        "# Definición de la función\n",
        "def hallar_nota_final(parcial1: float, parcial2: float, examen_final: float, nota_habilitacion: float) -> (float, str):\n",
        "    # Los datos de salida son la nota final y si aprobó o reprobó\n",
        "\n",
        "# Programa principal\n"
      ]
    },
    {
      "cell_type": "markdown",
      "metadata": {
        "id": "ib-5cS92_Q6D"
      },
      "source": [
        "---"
      ]
    },
    {
      "cell_type": "markdown",
      "metadata": {
        "id": "HEYb1D4A_R1a"
      },
      "source": [
        "## Ejercicio 06\n",
        "\n",
        "Usando el algoritmo de la [Congruencia de Zeller](https://es.wikipedia.org/wiki/Congruencia_de_Zeller), escriba una función y un programa en Python que halle el nombre del día de la semana de una fecha dada (calendario gregoriano solamente). "
      ]
    },
    {
      "cell_type": "code",
      "execution_count": null,
      "metadata": {
        "id": "Ph_VN7as_rLh"
      },
      "outputs": [],
      "source": [
        "# Función que halla el nombre del día de la semana de una fecha\n",
        "def dia_semana(dia: int, mes: int, año: int) -> str:\n",
        "    ...\n",
        "\n",
        "# Programa\n"
      ]
    },
    {
      "cell_type": "markdown",
      "metadata": {
        "id": "vc2puw23_9MM"
      },
      "source": [
        "## Ejercicio 07\n",
        "\n",
        "Escriba una función, y el correspondiente programa en Python en el que a partir de los nombres y las edades de tres hermanos, obtenga el nombre del hermano mayor."
      ]
    },
    {
      "cell_type": "code",
      "execution_count": null,
      "metadata": {
        "id": "ZaZJ-J1yB-JM"
      },
      "outputs": [],
      "source": [
        "# Definición de la función\n",
        "def hermano_mayor(nombre_hermano1: str, edad_hermano1: int, nombre_hermano2: str, edad_hermano2: int, \n",
        "                  nombre_hermano3: str, edad_hermano3: int) -> str:\n",
        "    ...\n",
        "\n",
        "# Programa principal\n"
      ]
    },
    {
      "cell_type": "markdown",
      "metadata": {
        "id": "5TL_1zdlDVTj"
      },
      "source": [
        "## Ejercicio 08\n",
        "\n",
        "El almacén Gran Distribuidor vende camisas al por mayor y hace descuentos según la cantidad facturada: en cantidades superiores o iguales a 1000 unidades hace el 10% de descuento; entre 500 y 999, el 8%; entre 200 y 499, el 5%; y en menos de 200 no hay descuento. Dada la cantidad facturada y el precio unitario, se requiere calcular el descuento que se le hace a un cliente y el valor a pagar."
      ]
    },
    {
      "cell_type": "code",
      "execution_count": null,
      "metadata": {
        "id": "zp8uqTPbChlU"
      },
      "outputs": [],
      "source": [
        "# Definición de la función\n",
        "\n",
        "# Programa principal\n"
      ]
    },
    {
      "cell_type": "markdown",
      "metadata": {
        "id": "ObcSmi64Dguz"
      },
      "source": [
        "---"
      ]
    },
    {
      "cell_type": "markdown",
      "metadata": {
        "id": "imjgoZ7oDhRO"
      },
      "source": [
        "## Ejercicio 09\n",
        "\n",
        "El banco Buena Paga ofrece diferentes tasas de interés anual para depósitos a término dependiendo del tiempo por el que se hagan. Si el depósito es por un periodo menor o igual a seis meses la tasa es del 8% anual; entre siete y 12 meses, 10%; entre 13 y 18, 12%; entre 19 y 24, 15%; y para periodos superiores a 24 meses el 18%. Se requiere una función y el respectivo programa para determinar cuánto recibirá un cliente por un depósito, tanto por concepto de interés como en total."
      ]
    },
    {
      "cell_type": "code",
      "execution_count": null,
      "metadata": {
        "id": "075brLA8Dyvg"
      },
      "outputs": [],
      "source": [
        "# Definición de la función\n",
        "\n",
        "# Programa principal\n"
      ]
    },
    {
      "cell_type": "markdown",
      "metadata": {
        "id": "V49GhHePD2ev"
      },
      "source": [
        "---"
      ]
    },
    {
      "cell_type": "markdown",
      "metadata": {
        "id": "1s-6flFoD3B0"
      },
      "source": [
        "## Ejercicio 10\n",
        "\n",
        "Una empresa editorial tiene tres grupos de empleados: vendedores, diseñadores y\n",
        "administrativos. Se requiere calcular el nuevo sueldo para los empleados teniendo en cuenta que se incrementarán así: administrativos 5%, diagramadores 10% y vendedores 12%."
      ]
    },
    {
      "cell_type": "code",
      "execution_count": null,
      "metadata": {
        "id": "JookfR5qEDd8"
      },
      "outputs": [],
      "source": [
        "# Definición de la función\n",
        "\n",
        "# Programa principal\n"
      ]
    },
    {
      "cell_type": "markdown",
      "metadata": {
        "id": "6D4KFSy2ETen"
      },
      "source": [
        "## Ejercicio 11\n",
        "\n",
        "La empresa V&V paga a sus vendedores un salario básico más una comisión sobre las ventas efectuadas en el mes, siempre que éstas sean mayores a \\$ 1.000.000. Los porcentajes de bonificación son:\n",
        "\n",
        "* Ventas mayores a \\$ 1.000.000 y hasta \\$ 2.000.000 = 3%\n",
        "* Ventas mayores a \\$ 2.000.000 y hasta \\$ 5.000.000 = 5%\n",
        "* Ventas mayores a \\$ 5.000.000 = 8%\n",
        "\n",
        "Se desea conocer cuánto corresponde al vendedor por comisión y cuánto recibirá en total en el mes."
      ]
    },
    {
      "cell_type": "code",
      "execution_count": null,
      "metadata": {
        "id": "tdLljwWKEWcD"
      },
      "outputs": [],
      "source": [
        "# Definición de la función \n",
        "def ejer11(salario_basico: float, ventas: float) -> (float, float):\n",
        "    # La función retorna la comisión y el total del mes (salario + comisión)\n",
        "    ...\n",
        "\n",
        "# Programa principal\n"
      ]
    },
    {
      "cell_type": "markdown",
      "metadata": {
        "id": "4mXlm2YJE-lv"
      },
      "source": [
        "---"
      ]
    }
  ],
  "metadata": {
    "colab": {
      "name": "Taller_02.ipynb",
      "provenance": []
    },
    "kernelspec": {
      "display_name": "Python 3",
      "name": "python3"
    },
    "language_info": {
      "codemirror_mode": {
        "name": "ipython",
        "version": 3
      },
      "file_extension": ".py",
      "mimetype": "text/x-python",
      "name": "python",
      "nbconvert_exporter": "python",
      "pygments_lexer": "ipython3",
      "version": "3.10.3"
    }
  },
  "nbformat": 4,
  "nbformat_minor": 0
}
